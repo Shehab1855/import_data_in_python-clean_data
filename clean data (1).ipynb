{
 "cells": [
  {
   "cell_type": "code",
   "execution_count": 1,
   "id": "f78ffc86",
   "metadata": {},
   "outputs": [],
   "source": [
    "import pandas as pd "
   ]
  },
  {
   "cell_type": "code",
   "execution_count": 2,
   "id": "b6e9717c",
   "metadata": {
    "scrolled": true
   },
   "outputs": [
    {
     "data": {
      "text/html": [
       "<div>\n",
       "<style scoped>\n",
       "    .dataframe tbody tr th:only-of-type {\n",
       "        vertical-align: middle;\n",
       "    }\n",
       "\n",
       "    .dataframe tbody tr th {\n",
       "        vertical-align: top;\n",
       "    }\n",
       "\n",
       "    .dataframe thead th {\n",
       "        text-align: right;\n",
       "    }\n",
       "</style>\n",
       "<table border=\"1\" class=\"dataframe\">\n",
       "  <thead>\n",
       "    <tr style=\"text-align: right;\">\n",
       "      <th></th>\n",
       "      <th>magic_id</th>\n",
       "      <th>duration</th>\n",
       "      <th>station_A_id</th>\n",
       "      <th>station_A_name</th>\n",
       "      <th>station_B_id</th>\n",
       "      <th>station_B_name</th>\n",
       "      <th>bike_id</th>\n",
       "      <th>user_type</th>\n",
       "      <th>user_birth_year</th>\n",
       "      <th>user_gender</th>\n",
       "    </tr>\n",
       "  </thead>\n",
       "  <tbody>\n",
       "    <tr>\n",
       "      <th>0</th>\n",
       "      <td>0</td>\n",
       "      <td>12 minutes</td>\n",
       "      <td>81</td>\n",
       "      <td>Berry St at 4th St</td>\n",
       "      <td>323</td>\n",
       "      <td>Broadway at Kearny</td>\n",
       "      <td>5480</td>\n",
       "      <td>2</td>\n",
       "      <td>1959</td>\n",
       "      <td>Male</td>\n",
       "    </tr>\n",
       "    <tr>\n",
       "      <th>1</th>\n",
       "      <td>1</td>\n",
       "      <td>24 minutes</td>\n",
       "      <td>3</td>\n",
       "      <td>Powell St BART Station (Market St at 4th St)</td>\n",
       "      <td>118</td>\n",
       "      <td>Eureka Valley Recreation Center</td>\n",
       "      <td>5193</td>\n",
       "      <td>2</td>\n",
       "      <td>1965</td>\n",
       "      <td>Male</td>\n",
       "    </tr>\n",
       "    <tr>\n",
       "      <th>2</th>\n",
       "      <td>2</td>\n",
       "      <td>8 minutes</td>\n",
       "      <td>67</td>\n",
       "      <td>San Francisco Caltrain Station 2  (Townsend St...</td>\n",
       "      <td>23</td>\n",
       "      <td>The Embarcadero at Steuart St</td>\n",
       "      <td>3652</td>\n",
       "      <td>3</td>\n",
       "      <td>1993</td>\n",
       "      <td>Male</td>\n",
       "    </tr>\n",
       "    <tr>\n",
       "      <th>3</th>\n",
       "      <td>3</td>\n",
       "      <td>4 minutes</td>\n",
       "      <td>16</td>\n",
       "      <td>Steuart St at Market St</td>\n",
       "      <td>28</td>\n",
       "      <td>The Embarcadero at Bryant St</td>\n",
       "      <td>1883</td>\n",
       "      <td>1</td>\n",
       "      <td>1979</td>\n",
       "      <td>Male</td>\n",
       "    </tr>\n",
       "    <tr>\n",
       "      <th>4</th>\n",
       "      <td>4</td>\n",
       "      <td>11 minutes</td>\n",
       "      <td>22</td>\n",
       "      <td>Howard St at Beale St</td>\n",
       "      <td>350</td>\n",
       "      <td>8th St at Brannan St</td>\n",
       "      <td>4626</td>\n",
       "      <td>2</td>\n",
       "      <td>1994</td>\n",
       "      <td>Male</td>\n",
       "    </tr>\n",
       "  </tbody>\n",
       "</table>\n",
       "</div>"
      ],
      "text/plain": [
       "   magic_id    duration  station_A_id  \\\n",
       "0         0  12 minutes            81   \n",
       "1         1  24 minutes             3   \n",
       "2         2   8 minutes            67   \n",
       "3         3   4 minutes            16   \n",
       "4         4  11 minutes            22   \n",
       "\n",
       "                                      station_A_name  station_B_id  \\\n",
       "0                                 Berry St at 4th St           323   \n",
       "1       Powell St BART Station (Market St at 4th St)           118   \n",
       "2  San Francisco Caltrain Station 2  (Townsend St...            23   \n",
       "3                            Steuart St at Market St            28   \n",
       "4                              Howard St at Beale St           350   \n",
       "\n",
       "                    station_B_name  bike_id  user_type  user_birth_year  \\\n",
       "0               Broadway at Kearny     5480          2             1959   \n",
       "1  Eureka Valley Recreation Center     5193          2             1965   \n",
       "2    The Embarcadero at Steuart St     3652          3             1993   \n",
       "3     The Embarcadero at Bryant St     1883          1             1979   \n",
       "4             8th St at Brannan St     4626          2             1994   \n",
       "\n",
       "  user_gender  \n",
       "0        Male  \n",
       "1        Male  \n",
       "2        Male  \n",
       "3        Male  \n",
       "4        Male  "
      ]
     },
     "execution_count": 2,
     "metadata": {},
     "output_type": "execute_result"
    }
   ],
   "source": [
    "data=pd.read_csv('ride_sharing_new.csv')\n",
    "data.head()"
   ]
  },
  {
   "cell_type": "code",
   "execution_count": 3,
   "id": "0704dc05",
   "metadata": {},
   "outputs": [
    {
     "data": {
      "text/plain": [
       "count    25760.000000\n",
       "mean         2.008385\n",
       "std          0.704541\n",
       "min          1.000000\n",
       "25%          2.000000\n",
       "50%          2.000000\n",
       "75%          3.000000\n",
       "max          3.000000\n",
       "Name: user_type, dtype: float64"
      ]
     },
     "execution_count": 3,
     "metadata": {},
     "output_type": "execute_result"
    }
   ],
   "source": [
    "data['user_type'].describe()"
   ]
  },
  {
   "cell_type": "markdown",
   "id": "4df48768",
   "metadata": {},
   "source": [
    "# change Numeric to  categorical?"
   ]
  },
  {
   "cell_type": "markdown",
   "id": "c073e01b",
   "metadata": {},
   "source": [
    "# 1 = Married 2 = Separated 3 = Divorced\n"
   ]
  },
  {
   "cell_type": "code",
   "execution_count": 4,
   "id": "72141a02",
   "metadata": {},
   "outputs": [],
   "source": [
    "data['user_type']=data['user_type'].astype('category')"
   ]
  },
  {
   "cell_type": "code",
   "execution_count": 5,
   "id": "90ba350f",
   "metadata": {},
   "outputs": [
    {
     "data": {
      "text/plain": [
       "count     25760\n",
       "unique        3\n",
       "top           2\n",
       "freq      12972\n",
       "Name: user_type, dtype: int64"
      ]
     },
     "execution_count": 5,
     "metadata": {},
     "output_type": "execute_result"
    }
   ],
   "source": [
    "data['user_type'].describe()"
   ]
  },
  {
   "cell_type": "markdown",
   "id": "c93cf71b",
   "metadata": {},
   "source": [
    "## if you want to chack remove duplicate values "
   ]
  },
  {
   "cell_type": "code",
   "execution_count": 6,
   "id": "06ba4cb1",
   "metadata": {},
   "outputs": [],
   "source": [
    "duplicates=data.duplicated()"
   ]
  },
  {
   "cell_type": "code",
   "execution_count": 7,
   "id": "7f1c7926",
   "metadata": {},
   "outputs": [
    {
     "name": "stdout",
     "output_type": "stream",
     "text": [
      "0        False\n",
      "1        False\n",
      "2        False\n",
      "3        False\n",
      "4        False\n",
      "         ...  \n",
      "25755    False\n",
      "25756    False\n",
      "25757    False\n",
      "25758    False\n",
      "25759    False\n",
      "Length: 25760, dtype: bool\n"
     ]
    }
   ],
   "source": [
    "print(duplicates)\n"
   ]
  },
  {
   "cell_type": "code",
   "execution_count": 8,
   "id": "2eebe9e8",
   "metadata": {},
   "outputs": [
    {
     "data": {
      "text/html": [
       "<div>\n",
       "<style scoped>\n",
       "    .dataframe tbody tr th:only-of-type {\n",
       "        vertical-align: middle;\n",
       "    }\n",
       "\n",
       "    .dataframe tbody tr th {\n",
       "        vertical-align: top;\n",
       "    }\n",
       "\n",
       "    .dataframe thead th {\n",
       "        text-align: right;\n",
       "    }\n",
       "</style>\n",
       "<table border=\"1\" class=\"dataframe\">\n",
       "  <thead>\n",
       "    <tr style=\"text-align: right;\">\n",
       "      <th></th>\n",
       "      <th>magic_id</th>\n",
       "      <th>duration</th>\n",
       "      <th>station_A_id</th>\n",
       "      <th>station_A_name</th>\n",
       "      <th>station_B_id</th>\n",
       "      <th>station_B_name</th>\n",
       "      <th>bike_id</th>\n",
       "      <th>user_type</th>\n",
       "      <th>user_birth_year</th>\n",
       "      <th>user_gender</th>\n",
       "    </tr>\n",
       "  </thead>\n",
       "  <tbody>\n",
       "  </tbody>\n",
       "</table>\n",
       "</div>"
      ],
      "text/plain": [
       "Empty DataFrame\n",
       "Columns: [magic_id, duration, station_A_id, station_A_name, station_B_id, station_B_name, bike_id, user_type, user_birth_year, user_gender]\n",
       "Index: []"
      ]
     },
     "execution_count": 8,
     "metadata": {},
     "output_type": "execute_result"
    }
   ],
   "source": [
    "data[duplicates] #this result is no duplicates"
   ]
  },
  {
   "cell_type": "markdown",
   "id": "635addac",
   "metadata": {},
   "source": [
    "## How to find duplicate rows"
   ]
  },
  {
   "cell_type": "code",
   "execution_count": 9,
   "id": "fe0250d1",
   "metadata": {},
   "outputs": [
    {
     "data": {
      "text/html": [
       "<div>\n",
       "<style scoped>\n",
       "    .dataframe tbody tr th:only-of-type {\n",
       "        vertical-align: middle;\n",
       "    }\n",
       "\n",
       "    .dataframe tbody tr th {\n",
       "        vertical-align: top;\n",
       "    }\n",
       "\n",
       "    .dataframe thead th {\n",
       "        text-align: right;\n",
       "    }\n",
       "</style>\n",
       "<table border=\"1\" class=\"dataframe\">\n",
       "  <thead>\n",
       "    <tr style=\"text-align: right;\">\n",
       "      <th></th>\n",
       "      <th>magic_id</th>\n",
       "      <th>duration</th>\n",
       "      <th>station_A_id</th>\n",
       "      <th>station_A_name</th>\n",
       "      <th>station_B_id</th>\n",
       "      <th>station_B_name</th>\n",
       "      <th>bike_id</th>\n",
       "      <th>user_type</th>\n",
       "      <th>user_birth_year</th>\n",
       "      <th>user_gender</th>\n",
       "    </tr>\n",
       "  </thead>\n",
       "  <tbody>\n",
       "    <tr>\n",
       "      <th>0</th>\n",
       "      <td>0</td>\n",
       "      <td>12 minutes</td>\n",
       "      <td>81</td>\n",
       "      <td>Berry St at 4th St</td>\n",
       "      <td>323</td>\n",
       "      <td>Broadway at Kearny</td>\n",
       "      <td>5480</td>\n",
       "      <td>2</td>\n",
       "      <td>1959</td>\n",
       "      <td>Male</td>\n",
       "    </tr>\n",
       "    <tr>\n",
       "      <th>1</th>\n",
       "      <td>1</td>\n",
       "      <td>24 minutes</td>\n",
       "      <td>3</td>\n",
       "      <td>Powell St BART Station (Market St at 4th St)</td>\n",
       "      <td>118</td>\n",
       "      <td>Eureka Valley Recreation Center</td>\n",
       "      <td>5193</td>\n",
       "      <td>2</td>\n",
       "      <td>1965</td>\n",
       "      <td>Male</td>\n",
       "    </tr>\n",
       "    <tr>\n",
       "      <th>2</th>\n",
       "      <td>2</td>\n",
       "      <td>8 minutes</td>\n",
       "      <td>67</td>\n",
       "      <td>San Francisco Caltrain Station 2  (Townsend St...</td>\n",
       "      <td>23</td>\n",
       "      <td>The Embarcadero at Steuart St</td>\n",
       "      <td>3652</td>\n",
       "      <td>3</td>\n",
       "      <td>1993</td>\n",
       "      <td>Male</td>\n",
       "    </tr>\n",
       "    <tr>\n",
       "      <th>3</th>\n",
       "      <td>3</td>\n",
       "      <td>4 minutes</td>\n",
       "      <td>16</td>\n",
       "      <td>Steuart St at Market St</td>\n",
       "      <td>28</td>\n",
       "      <td>The Embarcadero at Bryant St</td>\n",
       "      <td>1883</td>\n",
       "      <td>1</td>\n",
       "      <td>1979</td>\n",
       "      <td>Male</td>\n",
       "    </tr>\n",
       "    <tr>\n",
       "      <th>4</th>\n",
       "      <td>4</td>\n",
       "      <td>11 minutes</td>\n",
       "      <td>22</td>\n",
       "      <td>Howard St at Beale St</td>\n",
       "      <td>350</td>\n",
       "      <td>8th St at Brannan St</td>\n",
       "      <td>4626</td>\n",
       "      <td>2</td>\n",
       "      <td>1994</td>\n",
       "      <td>Male</td>\n",
       "    </tr>\n",
       "    <tr>\n",
       "      <th>...</th>\n",
       "      <td>...</td>\n",
       "      <td>...</td>\n",
       "      <td>...</td>\n",
       "      <td>...</td>\n",
       "      <td>...</td>\n",
       "      <td>...</td>\n",
       "      <td>...</td>\n",
       "      <td>...</td>\n",
       "      <td>...</td>\n",
       "      <td>...</td>\n",
       "    </tr>\n",
       "    <tr>\n",
       "      <th>25755</th>\n",
       "      <td>25755</td>\n",
       "      <td>11 minutes</td>\n",
       "      <td>15</td>\n",
       "      <td>San Francisco Ferry Building (Harry Bridges Pl...</td>\n",
       "      <td>34</td>\n",
       "      <td>Father Alfred E Boeddeker Park</td>\n",
       "      <td>5063</td>\n",
       "      <td>1</td>\n",
       "      <td>2000</td>\n",
       "      <td>Male</td>\n",
       "    </tr>\n",
       "    <tr>\n",
       "      <th>25756</th>\n",
       "      <td>25756</td>\n",
       "      <td>10 minutes</td>\n",
       "      <td>15</td>\n",
       "      <td>San Francisco Ferry Building (Harry Bridges Pl...</td>\n",
       "      <td>34</td>\n",
       "      <td>Father Alfred E Boeddeker Park</td>\n",
       "      <td>5411</td>\n",
       "      <td>2</td>\n",
       "      <td>1998</td>\n",
       "      <td>Male</td>\n",
       "    </tr>\n",
       "    <tr>\n",
       "      <th>25757</th>\n",
       "      <td>25757</td>\n",
       "      <td>14 minutes</td>\n",
       "      <td>15</td>\n",
       "      <td>San Francisco Ferry Building (Harry Bridges Pl...</td>\n",
       "      <td>42</td>\n",
       "      <td>San Francisco City Hall (Polk St at Grove St)</td>\n",
       "      <td>5157</td>\n",
       "      <td>2</td>\n",
       "      <td>1995</td>\n",
       "      <td>Male</td>\n",
       "    </tr>\n",
       "    <tr>\n",
       "      <th>25758</th>\n",
       "      <td>25758</td>\n",
       "      <td>14 minutes</td>\n",
       "      <td>15</td>\n",
       "      <td>San Francisco Ferry Building (Harry Bridges Pl...</td>\n",
       "      <td>42</td>\n",
       "      <td>San Francisco City Hall (Polk St at Grove St)</td>\n",
       "      <td>4438</td>\n",
       "      <td>2</td>\n",
       "      <td>1995</td>\n",
       "      <td>Male</td>\n",
       "    </tr>\n",
       "    <tr>\n",
       "      <th>25759</th>\n",
       "      <td>25759</td>\n",
       "      <td>29 minutes</td>\n",
       "      <td>16</td>\n",
       "      <td>Steuart St at Market St</td>\n",
       "      <td>115</td>\n",
       "      <td>Jackson Playground</td>\n",
       "      <td>1705</td>\n",
       "      <td>3</td>\n",
       "      <td>1990</td>\n",
       "      <td>Male</td>\n",
       "    </tr>\n",
       "  </tbody>\n",
       "</table>\n",
       "<p>25651 rows × 10 columns</p>\n",
       "</div>"
      ],
      "text/plain": [
       "       magic_id    duration  station_A_id  \\\n",
       "0             0  12 minutes            81   \n",
       "1             1  24 minutes             3   \n",
       "2             2   8 minutes            67   \n",
       "3             3   4 minutes            16   \n",
       "4             4  11 minutes            22   \n",
       "...         ...         ...           ...   \n",
       "25755     25755  11 minutes            15   \n",
       "25756     25756  10 minutes            15   \n",
       "25757     25757  14 minutes            15   \n",
       "25758     25758  14 minutes            15   \n",
       "25759     25759  29 minutes            16   \n",
       "\n",
       "                                          station_A_name  station_B_id  \\\n",
       "0                                     Berry St at 4th St           323   \n",
       "1           Powell St BART Station (Market St at 4th St)           118   \n",
       "2      San Francisco Caltrain Station 2  (Townsend St...            23   \n",
       "3                                Steuart St at Market St            28   \n",
       "4                                  Howard St at Beale St           350   \n",
       "...                                                  ...           ...   \n",
       "25755  San Francisco Ferry Building (Harry Bridges Pl...            34   \n",
       "25756  San Francisco Ferry Building (Harry Bridges Pl...            34   \n",
       "25757  San Francisco Ferry Building (Harry Bridges Pl...            42   \n",
       "25758  San Francisco Ferry Building (Harry Bridges Pl...            42   \n",
       "25759                            Steuart St at Market St           115   \n",
       "\n",
       "                                      station_B_name  bike_id user_type  \\\n",
       "0                                 Broadway at Kearny     5480         2   \n",
       "1                    Eureka Valley Recreation Center     5193         2   \n",
       "2                      The Embarcadero at Steuart St     3652         3   \n",
       "3                       The Embarcadero at Bryant St     1883         1   \n",
       "4                               8th St at Brannan St     4626         2   \n",
       "...                                              ...      ...       ...   \n",
       "25755                 Father Alfred E Boeddeker Park     5063         1   \n",
       "25756                 Father Alfred E Boeddeker Park     5411         2   \n",
       "25757  San Francisco City Hall (Polk St at Grove St)     5157         2   \n",
       "25758  San Francisco City Hall (Polk St at Grove St)     4438         2   \n",
       "25759                             Jackson Playground     1705         3   \n",
       "\n",
       "       user_birth_year user_gender  \n",
       "0                 1959        Male  \n",
       "1                 1965        Male  \n",
       "2                 1993        Male  \n",
       "3                 1979        Male  \n",
       "4                 1994        Male  \n",
       "...                ...         ...  \n",
       "25755             2000        Male  \n",
       "25756             1998        Male  \n",
       "25757             1995        Male  \n",
       "25758             1995        Male  \n",
       "25759             1990        Male  \n",
       "\n",
       "[25651 rows x 10 columns]"
      ]
     },
     "execution_count": 9,
     "metadata": {},
     "output_type": "execute_result"
    }
   ],
   "source": [
    "cols = [ 'station_A_id' ,'station_B_id']\n",
    "x = data.duplicated(subset=cols, keep=False)\n",
    "(data[x])\n"
   ]
  },
  {
   "cell_type": "markdown",
   "id": "6225a810",
   "metadata": {},
   "source": [
    "<img src='Screenshot 2023-07-31 022704.png'>"
   ]
  },
  {
   "cell_type": "code",
   "execution_count": null,
   "id": "ecc1c6d5",
   "metadata": {},
   "outputs": [],
   "source": []
  },
  {
   "cell_type": "code",
   "execution_count": 10,
   "id": "96834d2b",
   "metadata": {
    "scrolled": true
   },
   "outputs": [
    {
     "data": {
      "text/html": [
       "<div>\n",
       "<style scoped>\n",
       "    .dataframe tbody tr th:only-of-type {\n",
       "        vertical-align: middle;\n",
       "    }\n",
       "\n",
       "    .dataframe tbody tr th {\n",
       "        vertical-align: top;\n",
       "    }\n",
       "\n",
       "    .dataframe thead th {\n",
       "        text-align: right;\n",
       "    }\n",
       "</style>\n",
       "<table border=\"1\" class=\"dataframe\">\n",
       "  <thead>\n",
       "    <tr style=\"text-align: right;\">\n",
       "      <th></th>\n",
       "      <th>magic_id</th>\n",
       "      <th>cust_id</th>\n",
       "      <th>birth_date</th>\n",
       "      <th>Age</th>\n",
       "      <th>acct_amount</th>\n",
       "      <th>inv_amount</th>\n",
       "      <th>fund_A</th>\n",
       "      <th>fund_B</th>\n",
       "      <th>fund_C</th>\n",
       "      <th>fund_D</th>\n",
       "      <th>account_opened</th>\n",
       "      <th>last_transaction</th>\n",
       "    </tr>\n",
       "  </thead>\n",
       "  <tbody>\n",
       "    <tr>\n",
       "      <th>0</th>\n",
       "      <td>0</td>\n",
       "      <td>870A9281</td>\n",
       "      <td>6/9/1962</td>\n",
       "      <td>58</td>\n",
       "      <td>63523.31</td>\n",
       "      <td>51295</td>\n",
       "      <td>30105.0</td>\n",
       "      <td>4138.0</td>\n",
       "      <td>1420.0</td>\n",
       "      <td>15632.0</td>\n",
       "      <td>2/9/2018</td>\n",
       "      <td>22-02-19</td>\n",
       "    </tr>\n",
       "    <tr>\n",
       "      <th>1</th>\n",
       "      <td>1</td>\n",
       "      <td>166B05B0</td>\n",
       "      <td>12/16/1962</td>\n",
       "      <td>58</td>\n",
       "      <td>38175.46</td>\n",
       "      <td>15050</td>\n",
       "      <td>4995.0</td>\n",
       "      <td>938.0</td>\n",
       "      <td>6696.0</td>\n",
       "      <td>2421.0</td>\n",
       "      <td>28-02-19</td>\n",
       "      <td>31-10-18</td>\n",
       "    </tr>\n",
       "    <tr>\n",
       "      <th>2</th>\n",
       "      <td>2</td>\n",
       "      <td>BFC13E88</td>\n",
       "      <td>9/12/1990</td>\n",
       "      <td>34</td>\n",
       "      <td>59863.77</td>\n",
       "      <td>24567</td>\n",
       "      <td>10323.0</td>\n",
       "      <td>4590.0</td>\n",
       "      <td>8469.0</td>\n",
       "      <td>1185.0</td>\n",
       "      <td>25-04-18</td>\n",
       "      <td>2/4/2018</td>\n",
       "    </tr>\n",
       "    <tr>\n",
       "      <th>3</th>\n",
       "      <td>3</td>\n",
       "      <td>F2158F66</td>\n",
       "      <td>11/3/1985</td>\n",
       "      <td>35</td>\n",
       "      <td>84132.10</td>\n",
       "      <td>23712</td>\n",
       "      <td>3908.0</td>\n",
       "      <td>492.0</td>\n",
       "      <td>6482.0</td>\n",
       "      <td>12830.0</td>\n",
       "      <td>7/11/2017</td>\n",
       "      <td>8/11/2018</td>\n",
       "    </tr>\n",
       "    <tr>\n",
       "      <th>4</th>\n",
       "      <td>4</td>\n",
       "      <td>7A73F334</td>\n",
       "      <td>5/17/1990</td>\n",
       "      <td>30</td>\n",
       "      <td>120512.00</td>\n",
       "      <td>93230</td>\n",
       "      <td>12158.4</td>\n",
       "      <td>51281.0</td>\n",
       "      <td>13434.0</td>\n",
       "      <td>18383.0</td>\n",
       "      <td>14-05-18</td>\n",
       "      <td>19-07-18</td>\n",
       "    </tr>\n",
       "  </tbody>\n",
       "</table>\n",
       "</div>"
      ],
      "text/plain": [
       "   magic_id   cust_id  birth_date  Age  acct_amount  inv_amount   fund_A  \\\n",
       "0         0  870A9281    6/9/1962   58     63523.31       51295  30105.0   \n",
       "1         1  166B05B0  12/16/1962   58     38175.46       15050   4995.0   \n",
       "2         2  BFC13E88   9/12/1990   34     59863.77       24567  10323.0   \n",
       "3         3  F2158F66   11/3/1985   35     84132.10       23712   3908.0   \n",
       "4         4  7A73F334   5/17/1990   30    120512.00       93230  12158.4   \n",
       "\n",
       "    fund_B   fund_C   fund_D account_opened last_transaction  \n",
       "0   4138.0   1420.0  15632.0       2/9/2018         22-02-19  \n",
       "1    938.0   6696.0   2421.0       28-02-19         31-10-18  \n",
       "2   4590.0   8469.0   1185.0       25-04-18         2/4/2018  \n",
       "3    492.0   6482.0  12830.0      7/11/2017        8/11/2018  \n",
       "4  51281.0  13434.0  18383.0       14-05-18         19-07-18  "
      ]
     },
     "execution_count": 10,
     "metadata": {},
     "output_type": "execute_result"
    }
   ],
   "source": [
    "df= pd.read_csv('banking_dirty.csv')\n",
    "df.head()"
   ]
  },
  {
   "cell_type": "code",
   "execution_count": 11,
   "id": "c38ec6e2",
   "metadata": {
    "scrolled": true
   },
   "outputs": [
    {
     "data": {
      "text/plain": [
       "magic_id              int64\n",
       "cust_id              object\n",
       "birth_date           object\n",
       "Age                   int64\n",
       "acct_amount         float64\n",
       "inv_amount            int64\n",
       "fund_A              float64\n",
       "fund_B              float64\n",
       "fund_C              float64\n",
       "fund_D              float64\n",
       "account_opened       object\n",
       "last_transaction     object\n",
       "dtype: object"
      ]
     },
     "execution_count": 11,
     "metadata": {},
     "output_type": "execute_result"
    }
   ],
   "source": [
    "df.dtypes"
   ]
  },
  {
   "cell_type": "markdown",
   "id": "912c079d",
   "metadata": {},
   "source": [
    "# change object to time\n",
    "##### account_opened       object\n",
    "##### last_transaction     object"
   ]
  },
  {
   "cell_type": "code",
   "execution_count": 12,
   "id": "ac256658",
   "metadata": {
    "scrolled": true
   },
   "outputs": [
    {
     "name": "stdout",
     "output_type": "stream",
     "text": [
      "   magic_id   cust_id birth_date  Age  acct_amount  inv_amount   fund_A  \\\n",
      "0         0  870A9281 1962-06-09   58     63523.31       51295  30105.0   \n",
      "1         1  166B05B0 1962-12-16   58     38175.46       15050   4995.0   \n",
      "2         2  BFC13E88 1990-09-12   34     59863.77       24567  10323.0   \n",
      "3         3  F2158F66 1985-11-03   35     84132.10       23712   3908.0   \n",
      "4         4  7A73F334 1990-05-17   30    120512.00       93230  12158.4   \n",
      "\n",
      "    fund_B   fund_C   fund_D account_opened last_transaction  \n",
      "0   4138.0   1420.0  15632.0     2018-02-09       2019-02-22  \n",
      "1    938.0   6696.0   2421.0     2019-02-28       2018-10-31  \n",
      "2   4590.0   8469.0   1185.0     2018-04-25       2018-02-04  \n",
      "3    492.0   6482.0  12830.0     2017-07-11       2018-08-11  \n",
      "4  51281.0  13434.0  18383.0     2018-05-14       2018-07-19  \n"
     ]
    }
   ],
   "source": [
    "# Convert 'account_opened' to datetime\n",
    "df['account_opened'] = pd.to_datetime(df['account_opened'])\n",
    "\n",
    "# Convert 'last_transaction' to datetime\n",
    "df['last_transaction'] = pd.to_datetime(df['last_transaction'])\n",
    "\n",
    "df['birth_date'] = pd.to_datetime(df['birth_date'])\n",
    "print(df.head())\n",
    "\n"
   ]
  },
  {
   "cell_type": "code",
   "execution_count": 13,
   "id": "ce0972c2",
   "metadata": {},
   "outputs": [
    {
     "data": {
      "text/plain": [
       "magic_id                     int64\n",
       "cust_id                     object\n",
       "birth_date          datetime64[ns]\n",
       "Age                          int64\n",
       "acct_amount                float64\n",
       "inv_amount                   int64\n",
       "fund_A                     float64\n",
       "fund_B                     float64\n",
       "fund_C                     float64\n",
       "fund_D                     float64\n",
       "account_opened      datetime64[ns]\n",
       "last_transaction    datetime64[ns]\n",
       "dtype: object"
      ]
     },
     "execution_count": 13,
     "metadata": {},
     "output_type": "execute_result"
    }
   ],
   "source": [
    "df.dtypes"
   ]
  },
  {
   "cell_type": "code",
   "execution_count": null,
   "id": "59631c9a",
   "metadata": {},
   "outputs": [],
   "source": []
  },
  {
   "cell_type": "code",
   "execution_count": null,
   "id": "2dbcbba0",
   "metadata": {
    "scrolled": true
   },
   "outputs": [],
   "source": [
    "\n"
   ]
  },
  {
   "cell_type": "code",
   "execution_count": null,
   "id": "e40343a7",
   "metadata": {},
   "outputs": [],
   "source": []
  },
  {
   "cell_type": "code",
   "execution_count": null,
   "id": "3f70e5a3",
   "metadata": {},
   "outputs": [],
   "source": []
  }
 ],
 "metadata": {
  "kernelspec": {
   "display_name": "Python 3 (ipykernel)",
   "language": "python",
   "name": "python3"
  },
  "language_info": {
   "codemirror_mode": {
    "name": "ipython",
    "version": 3
   },
   "file_extension": ".py",
   "mimetype": "text/x-python",
   "name": "python",
   "nbconvert_exporter": "python",
   "pygments_lexer": "ipython3",
   "version": "3.9.13"
  }
 },
 "nbformat": 4,
 "nbformat_minor": 5
}
